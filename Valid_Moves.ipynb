{
 "metadata": {
  "language": "Julia",
  "name": ""
 },
 "nbformat": 3,
 "nbformat_minor": 0,
 "worksheets": [
  {
   "cells": [
    {
     "cell_type": "code",
     "collapsed": false,
     "input": [
      "function makeBoard(height, width, default_value)\n",
      "   fill!(zeros(typeof(default_value), height, width), default_value)\n",
      "end"
     ],
     "language": "python",
     "metadata": {},
     "outputs": [
      {
       "metadata": {},
       "output_type": "pyout",
       "prompt_number": 6,
       "text": [
        "makeBoard (generic function with 1 method)"
       ]
      }
     ],
     "prompt_number": 6
    },
    {
     "cell_type": "code",
     "collapsed": false,
     "input": [
      "makeBoard(10,10,9999999)"
     ],
     "language": "python",
     "metadata": {},
     "outputs": [
      {
       "metadata": {},
       "output_type": "pyout",
       "prompt_number": 8,
       "text": [
        "10x10 Array{Int32,2}:\n",
        " 9999999  9999999  9999999  9999999  \u2026  9999999  9999999  9999999  9999999\n",
        " 9999999  9999999  9999999  9999999     9999999  9999999  9999999  9999999\n",
        " 9999999  9999999  9999999  9999999     9999999  9999999  9999999  9999999\n",
        " 9999999  9999999  9999999  9999999     9999999  9999999  9999999  9999999\n",
        " 9999999  9999999  9999999  9999999     9999999  9999999  9999999  9999999\n",
        " 9999999  9999999  9999999  9999999  \u2026  9999999  9999999  9999999  9999999\n",
        " 9999999  9999999  9999999  9999999     9999999  9999999  9999999  9999999\n",
        " 9999999  9999999  9999999  9999999     9999999  9999999  9999999  9999999\n",
        " 9999999  9999999  9999999  9999999     9999999  9999999  9999999  9999999\n",
        " 9999999  9999999  9999999  9999999     9999999  9999999  9999999  9999999"
       ]
      },
      {
       "metadata": {},
       "output_type": "pyout",
       "prompt_number": 9,
       "text": [
        "10x10 Array{Int32,2}:\n",
        " 9999999  9999999  9999999  9999999  \u2026  9999999  9999999  9999999  9999999\n",
        " 9999999  9999999  9999999  9999999     9999999  9999999  9999999  9999999\n",
        " 9999999  9999999  9999999  9999999     9999999  9999999  9999999  9999999\n",
        " 9999999  9999999  9999999  9999999     9999999  9999999  9999999  9999999\n",
        " 9999999  9999999  9999999  9999999     9999999  9999999  9999999  9999999\n",
        " 9999999  9999999  9999999  9999999  \u2026  9999999  9999999  9999999  9999999\n",
        " 9999999  9999999  9999999  9999999     9999999  9999999  9999999  9999999\n",
        " 9999999  9999999  9999999  9999999     9999999  9999999  9999999  9999999\n",
        " 9999999  9999999  9999999  9999999     9999999  9999999  9999999  9999999\n",
        " 9999999  9999999  9999999  9999999     9999999  9999999  9999999  9999999"
       ]
      }
     ],
     "prompt_number": 9
    },
    {
     "cell_type": "code",
     "collapsed": false,
     "input": [
      "function startingChessboard()\n",
      "    board = makeBoard(10,10,0)\n",
      "    for i = 1:8\n",
      "        board[2,i] = 21\n",
      "        board[7,i] = 11\n",
      "    end\n",
      "    \n",
      "    #Rooks\n",
      "    board[1,8] = 25\n",
      "    board[1,1] = 25\n",
      "    board[8,8] = 15\n",
      "    board[8,1] = 15\n",
      "    #knights\n",
      "    board[1,7] = 22\n",
      "    board[1,2] = 22\n",
      "    board[8,7] = 12\n",
      "    board[8,2] = 12\n",
      "    #bishops\n",
      "    board[1,6] = 23\n",
      "    board[1,3] = 23\n",
      "    board[8,6] = 13\n",
      "    board[8,3] = 13\n",
      "    #queens\n",
      "    board[1,4] = 28\n",
      "    board[8,4] = 18\n",
      "    #kings\n",
      "    board[1,5] = 29\n",
      "    board[8,5] = 19\n",
      "\n",
      "    board\n",
      "end"
     ],
     "language": "python",
     "metadata": {},
     "outputs": [
      {
       "metadata": {},
       "output_type": "pyout",
       "prompt_number": 2,
       "text": [
        "startingChessboard (generic function with 1 method)"
       ]
      },
      {
       "metadata": {},
       "output_type": "pyout",
       "prompt_number": 4,
       "text": [
        "startingChessboard (generic function with 1 method)"
       ]
      }
     ],
     "prompt_number": 4
    },
    {
     "cell_type": "code",
     "collapsed": false,
     "input": [
      "startingChessboard()"
     ],
     "language": "python",
     "metadata": {},
     "outputs": [
      {
       "metadata": {},
       "output_type": "pyout",
       "prompt_number": 7,
       "text": [
        "10x10 Array{Int32,2}:\n",
        " 25  22  23  28  29  23  22  25  0  0\n",
        " 21  21  21  21  21  21  21  21  0  0\n",
        "  0   0   0   0   0   0   0   0  0  0\n",
        "  0   0   0   0   0   0   0   0  0  0\n",
        "  0   0   0   0   0   0   0   0  0  0\n",
        "  0   0   0   0   0   0   0   0  0  0\n",
        " 11  11  11  11  11  11  11  11  0  0\n",
        " 15  12  13  18  19  13  12  15  0  0\n",
        "  0   0   0   0   0   0   0   0  0  0\n",
        "  0   0   0   0   0   0   0   0  0  0"
       ]
      }
     ],
     "prompt_number": 7
    },
    {
     "cell_type": "code",
     "collapsed": false,
     "input": [
      "function pawnMoves(board,current_pos)\n",
      "    \n",
      "end"
     ],
     "language": "python",
     "metadata": {},
     "outputs": []
    },
    {
     "cell_type": "code",
     "collapsed": false,
     "input": [],
     "language": "python",
     "metadata": {},
     "outputs": []
    }
   ],
   "metadata": {}
  }
 ]
}