{
 "metadata": {
  "language": "Julia",
  "name": ""
 },
 "nbformat": 3,
 "nbformat_minor": 0,
 "worksheets": [
  {
   "cells": [
    {
     "cell_type": "markdown",
     "metadata": {},
     "source": [
      "# Chess Board Playground\n",
      "Playing around with various multi-dimensional array syntax in julia.\n",
      "http://docs.julialang.org/en/latest/manual/arrays/\n"
     ]
    },
    {
     "cell_type": "markdown",
     "metadata": {},
     "source": [
      "###Various ways of constructing a 4x3 matrix.\n",
      "First we look at a direct defination. Values in a row are delimited by space and columns are delimited by ;"
     ]
    },
    {
     "cell_type": "code",
     "collapsed": false,
     "input": [
      "test_board = [0 0 0; 0 0 0; 0 0 0; 0 0 0]"
     ],
     "language": "python",
     "metadata": {},
     "outputs": [
      {
       "metadata": {},
       "output_type": "pyout",
       "prompt_number": 62,
       "text": [
        "4x3 Array{Int32,2}:\n",
        " 0  0  0\n",
        " 0  0  0\n",
        " 0  0  0\n",
        " 0  0  0"
       ]
      }
     ],
     "prompt_number": 62
    },
    {
     "cell_type": "markdown",
     "metadata": {},
     "source": [
      "Initialize a 4x3 matrix with all zeros. You can tell it what type (Int32 here) to have."
     ]
    },
    {
     "cell_type": "code",
     "collapsed": false,
     "input": [
      "zeros(Int32,4,3)"
     ],
     "language": "python",
     "metadata": {},
     "outputs": [
      {
       "metadata": {},
       "output_type": "pyout",
       "prompt_number": 64,
       "text": [
        "4x3 Array{Int32,2}:\n",
        " 0  0  0\n",
        " 0  0  0\n",
        " 0  0  0\n",
        " 0  0  0"
       ]
      }
     ],
     "prompt_number": 64
    },
    {
     "cell_type": "code",
     "collapsed": false,
     "input": [
      "ones(Uint8,4,3)"
     ],
     "language": "python",
     "metadata": {},
     "outputs": [
      {
       "metadata": {},
       "output_type": "pyout",
       "prompt_number": 63,
       "text": [
        "4x3 Array{Uint8,2}:\n",
        " 0x01  0x01  0x01\n",
        " 0x01  0x01  0x01\n",
        " 0x01  0x01  0x01\n",
        " 0x01  0x01  0x01"
       ]
      }
     ],
     "prompt_number": 63
    },
    {
     "cell_type": "code",
     "collapsed": false,
     "input": [
      "falses(3,4)"
     ],
     "language": "python",
     "metadata": {},
     "outputs": [
      {
       "metadata": {},
       "output_type": "pyout",
       "prompt_number": 69,
       "text": [
        "3x4 BitArray{2}:\n",
        " false  false  false  false\n",
        " false  false  false  false\n",
        " false  false  false  false"
       ]
      }
     ],
     "prompt_number": 69
    },
    {
     "cell_type": "code",
     "collapsed": false,
     "input": [
      "eye(4,4)"
     ],
     "language": "python",
     "metadata": {},
     "outputs": [
      {
       "metadata": {},
       "output_type": "pyout",
       "prompt_number": 68,
       "text": [
        "4x4 Array{Float64,2}:\n",
        " 1.0  0.0  0.0  0.0\n",
        " 0.0  1.0  0.0  0.0\n",
        " 0.0  0.0  1.0  0.0\n",
        " 0.0  0.0  0.0  1.0"
       ]
      }
     ],
     "prompt_number": 68
    },
    {
     "cell_type": "code",
     "collapsed": false,
     "input": [
      "rand(4,3)"
     ],
     "language": "python",
     "metadata": {},
     "outputs": [
      {
       "metadata": {},
       "output_type": "pyout",
       "prompt_number": 65,
       "text": [
        "4x3 Array{Float64,2}:\n",
        " 0.225602  0.337269  0.838967\n",
        " 0.794363  0.450223  0.931705\n",
        " 0.257573  0.913559  0.272737\n",
        " 0.255162  0.19467   0.876564"
       ]
      }
     ],
     "prompt_number": 65
    },
    {
     "cell_type": "markdown",
     "metadata": {},
     "source": [
      "The fill! function takes an Array and fills all its vals with the second param, in this case 4."
     ]
    },
    {
     "cell_type": "code",
     "collapsed": false,
     "input": [
      "fill!(zeros(Uint8,2,5), 4)"
     ],
     "language": "python",
     "metadata": {},
     "outputs": [
      {
       "metadata": {},
       "output_type": "pyout",
       "prompt_number": 57,
       "text": [
        "2x5 Array{Uint8,2}:\n",
        " 0x04  0x04  0x04  0x04  0x04\n",
        " 0x04  0x04  0x04  0x04  0x04"
       ]
      }
     ],
     "prompt_number": 57
    },
    {
     "cell_type": "markdown",
     "metadata": {},
     "source": [
      "Given all this info, we are ready to make a function that makes a height by width matrix with a param for default_value !"
     ]
    },
    {
     "cell_type": "code",
     "collapsed": false,
     "input": [
      "function makeEmptyBoard(height, width, default_value)\n",
      "   fill!(zeros(typeof(default_value), height, width), default_value)\n",
      "end\n",
      "\n",
      "board = makeEmptyBoard(10,10,0)"
     ],
     "language": "python",
     "metadata": {},
     "outputs": [
      {
       "metadata": {},
       "output_type": "pyout",
       "prompt_number": 109,
       "text": [
        "10x10 Array{Int32,2}:\n",
        " 0  0  0  0  0  0  0  0  0  0\n",
        " 0  0  0  0  0  0  0  0  0  0\n",
        " 0  0  0  0  0  0  0  0  0  0\n",
        " 0  0  0  0  0  0  0  0  0  0\n",
        " 0  0  0  0  0  0  0  0  0  0\n",
        " 0  0  0  0  0  0  0  0  0  0\n",
        " 0  0  0  0  0  0  0  0  0  0\n",
        " 0  0  0  0  0  0  0  0  0  0\n",
        " 0  0  0  0  0  0  0  0  0  0\n",
        " 0  0  0  0  0  0  0  0  0  0"
       ]
      }
     ],
     "prompt_number": 109
    },
    {
     "cell_type": "code",
     "collapsed": false,
     "input": [
      "board[3,5] = 11\n",
      "board"
     ],
     "language": "python",
     "metadata": {},
     "outputs": [
      {
       "metadata": {},
       "output_type": "pyout",
       "prompt_number": 79,
       "text": [
        "10x10 Array{Int32,2}:\n",
        " 0  0  0  0   0  0  0   0  0  0\n",
        " 0  0  0  0   0  0  0   0  0  0\n",
        " 0  0  0  0  11  0  0   0  0  0\n",
        " 0  0  0  0   0  0  0   0  0  0\n",
        " 0  0  0  0   0  0  0   0  0  0\n",
        " 0  0  0  0   0  0  0   0  0  0\n",
        " 0  0  0  0   0  0  0   0  0  0\n",
        " 0  0  0  0   0  0  0  10  0  0\n",
        " 0  0  0  0   0  0  0   0  0  0\n",
        " 0  0  0  0   0  0  0   0  0  0"
       ]
      }
     ],
     "prompt_number": 79
    },
    {
     "cell_type": "code",
     "collapsed": false,
     "input": [
      "function movePiece(board, current_row, current_col, destination_row, destination_col)\n",
      "    blank_square_symbol = 0\n",
      "    \n",
      "    piece = board[current_row,current_col]\n",
      "    board[current_row,current_col] = blank_square_symbol\n",
      "    board[destination_row, destination_col] = piece\n",
      "    \n",
      "    board\n",
      "end\n",
      "movePiece(board,3,5,8,8)"
     ],
     "language": "python",
     "metadata": {},
     "outputs": [
      {
       "metadata": {},
       "output_type": "pyout",
       "prompt_number": 80,
       "text": [
        "10x10 Array{Int32,2}:\n",
        " 0  0  0  0  0  0  0   0  0  0\n",
        " 0  0  0  0  0  0  0   0  0  0\n",
        " 0  0  0  0  0  0  0   0  0  0\n",
        " 0  0  0  0  0  0  0   0  0  0\n",
        " 0  0  0  0  0  0  0   0  0  0\n",
        " 0  0  0  0  0  0  0   0  0  0\n",
        " 0  0  0  0  0  0  0   0  0  0\n",
        " 0  0  0  0  0  0  0  11  0  0\n",
        " 0  0  0  0  0  0  0   0  0  0\n",
        " 0  0  0  0  0  0  0   0  0  0"
       ]
      }
     ],
     "prompt_number": 80
    },
    {
     "cell_type": "code",
     "collapsed": false,
     "input": [
      "black = [29,28,25,23,22,21]"
     ],
     "language": "python",
     "metadata": {},
     "outputs": [
      {
       "metadata": {},
       "output_type": "pyout",
       "prompt_number": 77,
       "text": [
        "6-element Array{Int32,1}:\n",
        " 29\n",
        " 28\n",
        " 25\n",
        " 23\n",
        " 22\n",
        " 21"
       ]
      }
     ],
     "prompt_number": 77
    },
    {
     "cell_type": "code",
     "collapsed": false,
     "input": [
      "white = [19,18,15,13,12,11]"
     ],
     "language": "python",
     "metadata": {},
     "outputs": [
      {
       "metadata": {},
       "output_type": "pyout",
       "prompt_number": 78,
       "text": [
        "6-element Array{Int32,1}:\n",
        " 19\n",
        " 18\n",
        " 15\n",
        " 13\n",
        " 12\n",
        " 11"
       ]
      }
     ],
     "prompt_number": 78
    },
    {
     "cell_type": "code",
     "collapsed": false,
     "input": [
      "function pieceValue(piece)\n",
      "    if piece == 11 return 10\n",
      "    if piece == 12 return 30\n",
      "    if piece == 13 return 33\n",
      "    if piece == 15 return 50\n",
      "    if piece == 18 return 90\n",
      "    if piece == 19 return 99999999\n",
      "    if piece == 21 return 10\n",
      "    if piece == 22 return 30\n",
      "    if piece == 23 return 33\n",
      "    if piece == 25 return 50\n",
      "    if piece == 28 return 90\n",
      "    if piece == 29 return 99999999"
     ],
     "language": "python",
     "metadata": {},
     "outputs": [
      {
       "ename": "LoadError",
       "evalue": "syntax: incomplete: premature end of input\nat In[81]:13",
       "output_type": "pyerr",
       "traceback": [
        "syntax: incomplete: premature end of input\nat In[81]:13"
       ]
      }
     ],
     "prompt_number": 81
    },
    {
     "cell_type": "code",
     "collapsed": false,
     "input": [
      "function pieceValue(piece)\n",
      "    # in the future this should simple return the value \n",
      "    # from a pre initialized array with keys matching pieces\n",
      "    piece == 11 ? (return 10) :\n",
      "    piece == 12 ? (return 30) :\n",
      "    piece == 13 ? (return 33) :\n",
      "    piece == 15 ? (return 50) :\n",
      "    piece == 18 ? (return 90) :\n",
      "    piece == 19 ? (return 99999999) :\n",
      "    piece == 21 ? (return 10) :\n",
      "    piece == 22 ? (return 30) :\n",
      "    piece == 23 ? (return 33) : \n",
      "    piece == 25 ? (return 50) :\n",
      "    piece == 28 ? (return 90) :\n",
      "    piece == 29 ? (return 99999999) :\n",
      "    0 #piece not found? defualts to 0\n",
      "end\n",
      "\n",
      "pieceValue(14)\n"
     ],
     "language": "python",
     "metadata": {},
     "outputs": [
      {
       "metadata": {},
       "output_type": "pyout",
       "prompt_number": 101,
       "text": [
        "0"
       ]
      }
     ],
     "prompt_number": 101
    },
    {
     "cell_type": "code",
     "collapsed": false,
     "input": [
      "function startingChessboard()\n",
      "    board = makeEmptyBoard(10,10,0)\n",
      "    for i = 1:8\n",
      "        board[2,i] = 21\n",
      "        board[2,i] = 21\n",
      "    end\n",
      "    for i = 1:8\n",
      "        board[7,i] = 11\n",
      "        board[7,i] = 11\n",
      "    end\n",
      "    board\n",
      "end\n",
      "startingChessboard()    "
     ],
     "language": "python",
     "metadata": {},
     "outputs": [
      {
       "metadata": {},
       "output_type": "pyout",
       "prompt_number": 115,
       "text": [
        "10x10 Array{Int32,2}:\n",
        "  0   0   0   0   0   0   0   0  0  0\n",
        " 21  21  21  21  21  21  21  21  0  0\n",
        "  0   0   0   0   0   0   0   0  0  0\n",
        "  0   0   0   0   0   0   0   0  0  0\n",
        "  0   0   0   0   0   0   0   0  0  0\n",
        "  0   0   0   0   0   0   0   0  0  0\n",
        " 11  11  11  11  11  11  11  11  0  0\n",
        "  0   0   0   0   0   0   0   0  0  0\n",
        "  0   0   0   0   0   0   0   0  0  0\n",
        "  0   0   0   0   0   0   0   0  0  0"
       ]
      }
     ],
     "prompt_number": 115
    },
    {
     "cell_type": "code",
     "collapsed": false,
     "input": [],
     "language": "python",
     "metadata": {},
     "outputs": []
    }
   ],
   "metadata": {}
  }
 ]
}